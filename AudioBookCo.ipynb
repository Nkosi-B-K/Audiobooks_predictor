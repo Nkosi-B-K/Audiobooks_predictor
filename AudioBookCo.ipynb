{
 "cells": [
  {
   "cell_type": "code",
   "execution_count": 2,
   "id": "202a740a-5a54-4474-aa81-2997e3c26a75",
   "metadata": {},
   "outputs": [],
   "source": [
    "## AUDIOBOOK BUSINESS CASE STUDY"
   ]
  },
  {
   "cell_type": "code",
   "execution_count": 3,
   "id": "5ab5242b-858d-4bb3-87c0-58a61f5f648f",
   "metadata": {},
   "outputs": [],
   "source": [
    "#EXTRACTING THE DATA FROM THE CSV"
   ]
  },
  {
   "cell_type": "code",
   "execution_count": 4,
   "id": "0e8de8eb-823b-469c-87df-566560d65952",
   "metadata": {},
   "outputs": [],
   "source": [
    "import numpy as np\n",
    "from sklearn import preprocessing\n",
    "\n",
    "raw_csv_data = np.loadtxt('Audiobooks_data.csv', delimiter = ',')\n",
    "unscaled_inputs_all = raw_csv_data [:,1:-1]\n",
    "targets_all = raw_csv_data[:,-1]"
   ]
  },
  {
   "cell_type": "code",
   "execution_count": 5,
   "id": "2118cbb5-ad16-40da-95ae-f83020b868f2",
   "metadata": {},
   "outputs": [],
   "source": [
    "# SHUFFLING THE DATA"
   ]
  },
  {
   "cell_type": "code",
   "execution_count": 6,
   "id": "05cde0d2-e2c5-4f5e-a4d3-b3422c1a3d65",
   "metadata": {},
   "outputs": [],
   "source": [
    "shuffled_indices = np.arange(unscaled_inputs_all.shape[0])\n",
    "np.random.shuffle(shuffled_indices)\n",
    "\n",
    "# Use the shuffled indices to shuffle the inputs and targets.\n",
    "unscaled_inputs_all = unscaled_inputs_all[shuffled_indices]\n",
    "targets_all = targets_all[shuffled_indices]"
   ]
  },
  {
   "cell_type": "code",
   "execution_count": 7,
   "id": "1ced56ea-81a1-4525-b1f1-d14d6706beb8",
   "metadata": {},
   "outputs": [],
   "source": [
    "# BALANCING THE DATASET"
   ]
  },
  {
   "cell_type": "code",
   "execution_count": 8,
   "id": "20053857-303d-4a0b-9e51-17c67adfcdac",
   "metadata": {},
   "outputs": [],
   "source": [
    "num_one_targets = int(np.sum(targets_all))\n",
    "zero_targets_counter = 0\n",
    "indices_to_remove = []\n",
    "\n",
    "for i in range (targets_all.shape[0]):\n",
    "    if targets_all[i] == 0:\n",
    "        zero_targets_counter += 1\n",
    "        if zero_targets_counter > num_one_targets:\n",
    "            indices_to_remove.append(i)\n",
    "\n",
    "unscaled_inputs_equal_priors = np.delete(unscaled_inputs_all, indices_to_remove, axis=0)\n",
    "targets_equal_priors = np.delete(targets_all, indices_to_remove, axis=0)"
   ]
  },
  {
   "cell_type": "code",
   "execution_count": 9,
   "id": "0051c028-3513-4ecb-8301-ee9c7e5126f6",
   "metadata": {},
   "outputs": [],
   "source": [
    "# STANDARDIZING INPUTS"
   ]
  },
  {
   "cell_type": "code",
   "execution_count": 10,
   "id": "02478581-9290-4784-ae0c-7c7381b9d7d9",
   "metadata": {},
   "outputs": [],
   "source": [
    "scaled_inputs = preprocessing.scale(unscaled_inputs_equal_priors)"
   ]
  },
  {
   "cell_type": "code",
   "execution_count": 11,
   "id": "d39d6b1a-6b79-4123-b4b6-decb72355e87",
   "metadata": {},
   "outputs": [],
   "source": [
    "# SHUFFLING THE DATA"
   ]
  },
  {
   "cell_type": "code",
   "execution_count": 12,
   "id": "7eb28ff4-fc46-45e3-8d7c-859f0d356c50",
   "metadata": {},
   "outputs": [],
   "source": [
    "shuffled_indices = np.arange(scaled_inputs.shape[0])\n",
    "np.random.shuffle(shuffled_indices)\n",
    "\n",
    "shuffled_inputs = scaled_inputs[shuffled_indices]\n",
    "shuffled_targets = targets_equal_priors[shuffled_indices] "
   ]
  },
  {
   "cell_type": "code",
   "execution_count": 13,
   "id": "e35cc0a1-1c38-4da0-8506-e85d2b6bd623",
   "metadata": {},
   "outputs": [],
   "source": [
    "# SPLITTING THE DATA INTO TRAIN, VALIDATION AND TEST"
   ]
  },
  {
   "cell_type": "code",
   "execution_count": 14,
   "id": "7996c8af-98d6-4e37-bbd4-f7ad836e8a88",
   "metadata": {},
   "outputs": [
    {
     "name": "stdout",
     "output_type": "stream",
     "text": [
      "1782.0 3579 0.4979044425817267\n",
      "221.0 447 0.49440715883668906\n",
      "234.0 448 0.5223214285714286\n"
     ]
    }
   ],
   "source": [
    "samples_count = shuffled_inputs.shape[0]\n",
    "\n",
    "train_samples_counts = int(0.8*samples_count)\n",
    "validation_samples_count = int(0.1*samples_count)\n",
    "test_samples_count = samples_count - train_samples_counts - validation_samples_count\n",
    "\n",
    "train_inputs = shuffled_inputs[:train_samples_counts]\n",
    "train_targets = shuffled_targets[:train_samples_counts]\n",
    "\n",
    "validation_inputs = shuffled_inputs[train_samples_counts:train_samples_counts+validation_samples_count]\n",
    "validation_targets = shuffled_targets[train_samples_counts:train_samples_counts+validation_samples_count]\n",
    "\n",
    "test_inputs = shuffled_inputs[train_samples_counts+validation_samples_count:]\n",
    "test_targets =shuffled_targets[train_samples_counts+validation_samples_count:]\n",
    "\n",
    "print(np.sum(train_targets), train_samples_counts, np.sum(train_targets)/train_samples_counts)\n",
    "print(np.sum(validation_targets), validation_samples_count, np.sum(validation_targets)/validation_samples_count)\n",
    "print(np.sum(test_targets), test_samples_count, np.sum(test_targets)/test_samples_count)"
   ]
  },
  {
   "cell_type": "code",
   "execution_count": 15,
   "id": "796c6a0f-a789-4b49-a80f-59c05396949f",
   "metadata": {},
   "outputs": [],
   "source": [
    "# SAVING THE THREE DATASETS IN *.NPZ"
   ]
  },
  {
   "cell_type": "code",
   "execution_count": 16,
   "id": "859259c6-5612-4f84-8264-4e1d8bc1a8fd",
   "metadata": {},
   "outputs": [],
   "source": [
    "np.savez('Audiobooks_data_train', inputs = train_inputs, targets = train_targets)\n",
    "np.savez('Audiobooks_data_validation', inputs = validation_inputs, targets = validation_targets)\n",
    "np.savez('Audiobooks_data_test', inputs = test_inputs, targets = test_targets)"
   ]
  },
  {
   "cell_type": "code",
   "execution_count": 17,
   "id": "37a08456-0d49-422c-b9a2-b78ef633cb64",
   "metadata": {},
   "outputs": [],
   "source": [
    "# IMPORT THE RELEVANT LIBRARIES"
   ]
  },
  {
   "cell_type": "code",
   "execution_count": 18,
   "id": "9b402ced-3b6c-46e2-a796-1f896197c0bf",
   "metadata": {},
   "outputs": [],
   "source": [
    "import numpy as np\n",
    "import tensorflow as tf"
   ]
  },
  {
   "cell_type": "code",
   "execution_count": 19,
   "id": "310449c0-4cef-4ca9-97db-00b5cc1f70ad",
   "metadata": {},
   "outputs": [],
   "source": [
    "# LOADING THE NOZ FORMATTED DATA"
   ]
  },
  {
   "cell_type": "code",
   "execution_count": 20,
   "id": "f655d399-663a-43a2-99b0-14cd2e32d283",
   "metadata": {},
   "outputs": [],
   "source": [
    "npz = np.load('Audiobooks_data_train.npz')\n",
    "\n",
    "train_inputs = npz['inputs'].astype(float)\n",
    "train_targets = npz['targets'].astype(int)\n",
    "\n",
    "npz = np.load('Audiobooks_data_validation.npz')\n",
    "validation_inputs, validation_targets = npz['inputs'].astype(float), npz['targets'].astype(int)\n",
    "\n",
    "npz = np.load('Audiobooks_data_test.npz')\n",
    "test_inputs, test_targets = npz['inputs'].astype(float), npz['targets'].astype(int)"
   ]
  },
  {
   "cell_type": "code",
   "execution_count": 21,
   "id": "7b90e87a-745e-414f-925d-9e955d2241ce",
   "metadata": {},
   "outputs": [],
   "source": [
    "## MODEL\n",
    "# OUTLINE, OPTIMIZERS, LOSS, EARLY STOPPING AND TRANING"
   ]
  },
  {
   "cell_type": "code",
   "execution_count": 22,
   "id": "56716d67-91f9-4f3e-bd10-77fe3d49580f",
   "metadata": {},
   "outputs": [
    {
     "name": "stdout",
     "output_type": "stream",
     "text": [
      "Epoch 1/100\n",
      "36/36 - 1s - loss: 0.6392 - accuracy: 0.6547 - val_loss: 0.5397 - val_accuracy: 0.7584 - 513ms/epoch - 14ms/step\n",
      "Epoch 2/100\n",
      "36/36 - 0s - loss: 0.4896 - accuracy: 0.7625 - val_loss: 0.4558 - val_accuracy: 0.7785 - 59ms/epoch - 2ms/step\n",
      "Epoch 3/100\n",
      "36/36 - 0s - loss: 0.4384 - accuracy: 0.7695 - val_loss: 0.4190 - val_accuracy: 0.8054 - 68ms/epoch - 2ms/step\n",
      "Epoch 4/100\n",
      "36/36 - 0s - loss: 0.4135 - accuracy: 0.7879 - val_loss: 0.3927 - val_accuracy: 0.8054 - 66ms/epoch - 2ms/step\n",
      "Epoch 5/100\n",
      "36/36 - 0s - loss: 0.3988 - accuracy: 0.7930 - val_loss: 0.3856 - val_accuracy: 0.8054 - 64ms/epoch - 2ms/step\n",
      "Epoch 6/100\n",
      "36/36 - 0s - loss: 0.3883 - accuracy: 0.8022 - val_loss: 0.3737 - val_accuracy: 0.8098 - 63ms/epoch - 2ms/step\n",
      "Epoch 7/100\n",
      "36/36 - 0s - loss: 0.3810 - accuracy: 0.8027 - val_loss: 0.3672 - val_accuracy: 0.8076 - 61ms/epoch - 2ms/step\n",
      "Epoch 8/100\n",
      "36/36 - 0s - loss: 0.3785 - accuracy: 0.8022 - val_loss: 0.3629 - val_accuracy: 0.8121 - 64ms/epoch - 2ms/step\n",
      "Epoch 9/100\n",
      "36/36 - 0s - loss: 0.3717 - accuracy: 0.8066 - val_loss: 0.3599 - val_accuracy: 0.8166 - 74ms/epoch - 2ms/step\n",
      "Epoch 10/100\n",
      "36/36 - 0s - loss: 0.3709 - accuracy: 0.8069 - val_loss: 0.3559 - val_accuracy: 0.8098 - 100ms/epoch - 3ms/step\n",
      "Epoch 11/100\n",
      "36/36 - 0s - loss: 0.3664 - accuracy: 0.8106 - val_loss: 0.3536 - val_accuracy: 0.8166 - 92ms/epoch - 3ms/step\n",
      "Epoch 12/100\n",
      "36/36 - 0s - loss: 0.3647 - accuracy: 0.8097 - val_loss: 0.3516 - val_accuracy: 0.8188 - 74ms/epoch - 2ms/step\n",
      "Epoch 13/100\n",
      "36/36 - 0s - loss: 0.3628 - accuracy: 0.8125 - val_loss: 0.3506 - val_accuracy: 0.8143 - 84ms/epoch - 2ms/step\n",
      "Epoch 14/100\n",
      "36/36 - 0s - loss: 0.3585 - accuracy: 0.8064 - val_loss: 0.3656 - val_accuracy: 0.8188 - 72ms/epoch - 2ms/step\n",
      "Epoch 15/100\n",
      "36/36 - 0s - loss: 0.3608 - accuracy: 0.8080 - val_loss: 0.3526 - val_accuracy: 0.8277 - 69ms/epoch - 2ms/step\n"
     ]
    },
    {
     "data": {
      "text/plain": [
       "<keras.src.callbacks.History at 0x2392b0cea10>"
      ]
     },
     "execution_count": 22,
     "metadata": {},
     "output_type": "execute_result"
    }
   ],
   "source": [
    "input_size = 10\n",
    "output_size = 2\n",
    "hidden_layer_size = 50\n",
    "\n",
    "model = tf.keras.Sequential([\n",
    "    tf.keras.layers.Dense(hidden_layer_size,activation='relu'),\n",
    "    tf.keras.layers.Dense(hidden_layer_size,activation='relu'),\n",
    "    tf.keras.layers.Dense(output_size,activation='softmax')\n",
    "])\n",
    "\n",
    "model.compile(optimizer='adam', loss='sparse_categorical_crossentropy', metrics=['accuracy']) \n",
    "\n",
    "batch_size = 100\n",
    "\n",
    "max_epochs = 100\n",
    "\n",
    "early_stopping = tf.keras.callbacks.EarlyStopping(patience=2)\n",
    "\n",
    "model.fit(train_inputs,\n",
    "          train_targets,\n",
    "          batch_size = batch_size,\n",
    "          epochs = max_epochs,\n",
    "          callbacks = [early_stopping],\n",
    "          validation_data = (validation_inputs, validation_targets),\n",
    "          verbose = 2)"
   ]
  },
  {
   "cell_type": "code",
   "execution_count": 23,
   "id": "47afc27f-1e86-4784-a256-b5461cea4376",
   "metadata": {},
   "outputs": [],
   "source": [
    "# TESTING THE MODEL"
   ]
  },
  {
   "cell_type": "code",
   "execution_count": 24,
   "id": "b99a100d-8b8b-4dc4-8b81-2c78c5445180",
   "metadata": {},
   "outputs": [
    {
     "name": "stdout",
     "output_type": "stream",
     "text": [
      "(448, 10)\n"
     ]
    }
   ],
   "source": [
    "print(test_inputs.shape)"
   ]
  },
  {
   "cell_type": "code",
   "execution_count": 25,
   "id": "6515ec92-c52b-4c99-832d-ed2ff2953d92",
   "metadata": {},
   "outputs": [
    {
     "name": "stdout",
     "output_type": "stream",
     "text": [
      "(448,)\n"
     ]
    }
   ],
   "source": [
    "print(test_targets.shape)"
   ]
  },
  {
   "cell_type": "code",
   "execution_count": 26,
   "id": "afa26a2a-1ac0-47de-ace4-aa4b90a5c342",
   "metadata": {},
   "outputs": [
    {
     "name": "stdout",
     "output_type": "stream",
     "text": [
      "14/14 [==============================] - 0s 997us/step - loss: 0.3444 - accuracy: 0.8214\n"
     ]
    }
   ],
   "source": [
    "test_loss, test_accuracy = model.evaluate(test_inputs, test_targets)"
   ]
  },
  {
   "cell_type": "code",
   "execution_count": 56,
   "id": "08c9c64f-9421-4be3-92f6-7c9977a3d953",
   "metadata": {},
   "outputs": [
    {
     "name": "stdout",
     "output_type": "stream",
     "text": [
      "\n",
      "Test loss: 0.34. Test accuracy: 82.14%\n"
     ]
    }
   ],
   "source": [
    "print('\\nTest loss: {0:.2f}. Test accuracy: {1:.2f}%'.format(test_loss, test_accuracy * 100))"
   ]
  },
  {
   "cell_type": "code",
   "execution_count": null,
   "id": "25728220-3d9b-4f41-8509-88171a08248a",
   "metadata": {},
   "outputs": [],
   "source": []
  }
 ],
 "metadata": {
  "kernelspec": {
   "display_name": "Python (tf_env)",
   "language": "python",
   "name": "tf_env"
  },
  "language_info": {
   "codemirror_mode": {
    "name": "ipython",
    "version": 3
   },
   "file_extension": ".py",
   "mimetype": "text/x-python",
   "name": "python",
   "nbconvert_exporter": "python",
   "pygments_lexer": "ipython3",
   "version": "3.11.10"
  }
 },
 "nbformat": 4,
 "nbformat_minor": 5
}
